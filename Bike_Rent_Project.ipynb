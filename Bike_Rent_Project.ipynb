{
 "cells": [
  {
   "cell_type": "markdown",
   "id": "303d18ca",
   "metadata": {
    "id": "303d18ca"
   },
   "source": [
    "## OOP project"
   ]
  },
  {
   "cell_type": "markdown",
   "id": "5cada111",
   "metadata": {
    "id": "5cada111"
   },
   "source": [
    "A Bike Rental System\n",
    "\n",
    "A full fledged bike rental system implemented in Python using object oriented programming.\n",
    "\n",
    "Customers can see available bikes on the shop.\n",
    "Rent bikes on daily basis Rs.100 per day.\n",
    "Rent bikes on weekly basis Rs.500 per week.\n",
    "Family Rental, a promotion that can include from 3 to 5 Rentals (of any type) with a discount of 30% of the total price.\n",
    "\n",
    "The bike rental shop can issue a bill when customer decides to return the bike,\n",
    "display available inventory ,take requests on daily and weekly basis by cross verifying stock.\n",
    "\n",
    "For simplicity we assume that\n",
    "Any customer requests rentals of only one type i.e daily or weekly and is free to choose the number of bikes he/she wants.\n",
    "Requested bikes should be less than available stock."
   ]
  },
  {
   "cell_type": "code",
   "execution_count": null,
   "id": "81b2891a",
   "metadata": {
    "id": "81b2891a"
   },
   "outputs": [],
   "source": []
  },
  {
   "cell_type": "markdown",
   "id": "abae9162",
   "metadata": {
    "id": "abae9162"
   },
   "source": [
    "## Step 1\n",
    "\n",
    "Create a parent class `BikeRental`. Define `stock` as `class attribute` and assign value 100 to it.\n",
    "\n",
    "This class should not take any other attribute and when the object is created, it should display the message \"Welcome to rental bike shop.\"\n",
    "\n",
    "Define a method `displaystock` inside this class and when this method is called, it should display the total number of stock available."
   ]
  },
  {
   "cell_type": "code",
   "execution_count": 34,
   "id": "8816e06c",
   "metadata": {
    "executionInfo": {
     "elapsed": 411,
     "status": "ok",
     "timestamp": 1732259294804,
     "user": {
      "displayName": "Krishna Bhand",
      "userId": "17640450116803725830"
     },
     "user_tz": -330
    },
    "id": "8816e06c"
   },
   "outputs": [],
   "source": [
    "## your code goes here ##\n",
    "class BikeRental:\n",
    "  stock = 100\n",
    "  def __init__(self):\n",
    "    print(\"Welcome to rental bike shop.\")\n",
    "  def displaystock(self):\n",
    "    print('Total number of available Bikes for rent :', BikeRental.stock)"
   ]
  },
  {
   "cell_type": "markdown",
   "id": "2ca3fb5c",
   "metadata": {
    "id": "2ca3fb5c"
   },
   "source": [
    "Create an object `bike_shop` of above class."
   ]
  },
  {
   "cell_type": "code",
   "execution_count": 32,
   "id": "5184fc96",
   "metadata": {
    "colab": {
     "base_uri": "https://localhost:8080/"
    },
    "executionInfo": {
     "elapsed": 692,
     "status": "ok",
     "timestamp": 1732259289448,
     "user": {
      "displayName": "Krishna Bhand",
      "userId": "17640450116803725830"
     },
     "user_tz": -330
    },
    "id": "5184fc96",
    "outputId": "2e4a0369-3fbc-4071-dd07-7ef5948b5472"
   },
   "outputs": [
    {
     "name": "stdout",
     "output_type": "stream",
     "text": [
      "Welcome to rental bike shop.\n"
     ]
    }
   ],
   "source": [
    "## your code goes here\n",
    "bike_shop=BikeRental()"
   ]
  },
  {
   "cell_type": "code",
   "execution_count": 33,
   "id": "s0-EJadAsjGe",
   "metadata": {
    "colab": {
     "base_uri": "https://localhost:8080/"
    },
    "executionInfo": {
     "elapsed": 4,
     "status": "ok",
     "timestamp": 1732259289448,
     "user": {
      "displayName": "Krishna Bhand",
      "userId": "17640450116803725830"
     },
     "user_tz": -330
    },
    "id": "s0-EJadAsjGe",
    "outputId": "3eea7b68-6451-4a00-9da7-bcff36d3ce5a"
   },
   "outputs": [
    {
     "name": "stdout",
     "output_type": "stream",
     "text": [
      "Total number of available Bikes for rent :  100\n"
     ]
    }
   ],
   "source": [
    "bike_shop.displaystock()"
   ]
  },
  {
   "cell_type": "markdown",
   "id": "73d006a8",
   "metadata": {
    "id": "73d006a8"
   },
   "source": [
    "Check if above created object can access the `class attribute` `stock`."
   ]
  },
  {
   "cell_type": "markdown",
   "id": "a702f97d",
   "metadata": {
    "id": "a702f97d"
   },
   "source": [
    "Call the method `displaystock` using above created object `bike_shop`."
   ]
  }
 ],
 "metadata": {
  "colab": {
   "provenance": []
  },
  "kernelspec": {
   "display_name": "Python 3",
   "language": "python",
   "name": "python3"
  },
  "language_info": {
   "codemirror_mode": {
    "name": "ipython",
    "version": 3
   },
   "file_extension": ".py",
   "mimetype": "text/x-python",
   "name": "python",
   "nbconvert_exporter": "python",
   "pygments_lexer": "ipython3",
   "version": "3.8.8"
  }
 },
 "nbformat": 4,
 "nbformat_minor": 5
}
